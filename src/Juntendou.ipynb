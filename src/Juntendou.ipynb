{
 "cells": [
  {
   "cell_type": "code",
   "execution_count": 1,
   "metadata": {},
   "outputs": [
    {
     "name": "stdout",
     "output_type": "stream",
     "text": [
      "['D:/!BraVa_src/juntentou/sub01\\\\40+67+68_mirrored_g.csv', 'D:/!BraVa_src/juntentou/sub01\\\\47+60+61.csv']\n",
      "['D:/!BraVa_src/juntentou/sub02\\\\40+68+66_mirrored_g.csv', 'D:/!BraVa_src/juntentou/sub02\\\\47+60+61.csv']\n"
     ]
    }
   ],
   "source": [
    "import pandas as pd\n",
    "import numpy as np\n",
    "import os\n",
    "import glob\n",
    "sub1_path = 'D:/!BraVa_src/juntentou/sub01/'\n",
    "sub2_path = 'D:/!BraVa_src/juntentou/sub02/'\n",
    "\n",
    "print (glob.glob(sub1_path + '*.csv'))\n",
    "print (glob.glob(sub2_path + '*.csv'))\n",
    "\n",
    "sub1_0 = pd.read_csv(glob.glob(sub1_path + '*.csv')[0])\n",
    "sub1_1 = pd.read_csv(glob.glob(sub1_path + '*.csv')[1])\n",
    "sub2_0 = pd.read_csv(glob.glob(sub2_path + '*.csv')[0])\n",
    "sub2_1 = pd.read_csv(glob.glob(sub2_path + '*.csv')[1])\n",
    "\n",
    "# 定义函数：保留到第二个 r=0 行之前的数据\n",
    "def filter_before_second_r_zero(df):\n",
    "    r_zero_count = 0\n",
    "    second_r_zero_index = None\n",
    "\n",
    "    for index, row in df.iterrows():\n",
    "        if row['r'] == 0:\n",
    "            r_zero_count += 1\n",
    "            if r_zero_count == 2:  # 找到第二个 r = 0 的行\n",
    "                second_r_zero_index = index\n",
    "                break\n",
    "\n",
    "    # 如果找到第二个 r=0 行，则保留之前的数据\n",
    "    if second_r_zero_index is not None:\n",
    "        df = df.iloc[:second_r_zero_index]\n",
    "    \n",
    "    return df\n",
    "\n",
    "# 对所有变量应用该函数\n",
    "# sub1_0 = filter_before_second_r_zero(sub1_0)\n",
    "# sub1_1 = filter_before_second_r_zero(sub1_1)\n",
    "# sub2_0 = filter_before_second_r_zero(sub2_0)\n",
    "# sub2_1 = filter_before_second_r_zero(sub2_1)\n"
   ]
  },
  {
   "cell_type": "code",
   "execution_count": 2,
   "metadata": {},
   "outputs": [],
   "source": [
    "# 生成VTK文件内容\n",
    "def generate_vtk(data, filename):\n",
    "    with open(filename, 'w') as vtk_file:\n",
    "        vtk_file.write(\"# vtk DataFile Version 3.0\\n\")\n",
    "        vtk_file.write(\"Curve data\\n\")\n",
    "        vtk_file.write(\"ASCII\\n\")\n",
    "        vtk_file.write(\"DATASET POLYDATA\\n\")\n",
    "        \n",
    "        # 写入点数据\n",
    "        num_points = len(data)\n",
    "        vtk_file.write(f\"POINTS {num_points} float\\n\")\n",
    "        for index, row in data.iterrows():\n",
    "            vtk_file.write(f\"{row['x']} {row['y']} {row['z']}\\n\")\n",
    "        \n",
    "        # 写入拓扑数据\n",
    "        vtk_file.write(f\"LINES 1 {num_points + 1}\\n\")\n",
    "        vtk_file.write(f\"{num_points} \" + \" \".join(map(str, range(num_points))) + \"\\n\")\n",
    "        \n",
    "        # 写入点数据属性\n",
    "        vtk_file.write(f\"POINT_DATA {num_points}\\n\")\n",
    "        \n",
    "        # 写入 r 数据\n",
    "        vtk_file.write(\"SCALARS r float 1\\n\")\n",
    "        vtk_file.write(\"LOOKUP_TABLE default\\n\")\n",
    "        for value in data['r']:\n",
    "            vtk_file.write(f\"{value}\\n\")\n",
    "        \n",
    "        # 写入 curvature 数据\n",
    "        vtk_file.write(\"SCALARS curvature float 1\\n\")\n",
    "        vtk_file.write(\"LOOKUP_TABLE default\\n\")\n",
    "        for value in data['curvature']:\n",
    "            vtk_file.write(f\"{value}\\n\")\n",
    "        \n",
    "        # 写入 torsion 数据\n",
    "        vtk_file.write(\"SCALARS torsion float 1\\n\")\n",
    "        vtk_file.write(\"LOOKUP_TABLE default\\n\")\n",
    "        for value in data['torsion']:\n",
    "            vtk_file.write(f\"{value}\\n\")\n",
    "\n",
    "# 调用函数生成 VTK 文件\n",
    "\n",
    "generate_vtk(sub1_0, 'sub1_0.vtk')\n",
    "generate_vtk(sub1_1, 'sub1_1.vtk')\n",
    "generate_vtk(sub2_0, 'sub2_0.vtk')\n",
    "generate_vtk(sub2_1, 'sub2_1.vtk')"
   ]
  }
 ],
 "metadata": {
  "kernelspec": {
   "display_name": "base",
   "language": "python",
   "name": "python3"
  },
  "language_info": {
   "codemirror_mode": {
    "name": "ipython",
    "version": 3
   },
   "file_extension": ".py",
   "mimetype": "text/x-python",
   "name": "python",
   "nbconvert_exporter": "python",
   "pygments_lexer": "ipython3",
   "version": "3.11.7"
  }
 },
 "nbformat": 4,
 "nbformat_minor": 2
}
