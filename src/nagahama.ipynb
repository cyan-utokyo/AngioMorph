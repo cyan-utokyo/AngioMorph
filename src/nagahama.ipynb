{
 "cells": [
  {
   "cell_type": "code",
   "execution_count": null,
   "metadata": {
    "vscode": {
     "languageId": "plaintext"
    }
   },
   "outputs": [],
   "source": [
    "import numpy as np \n",
    "import glob \n",
    "import vtk\n",
    "from scipy.interpolate import interp1d\n",
    "import matplotlib.pyplot as plt\n",
    "from AngioMorphPCA.preprocessing import parameterize_curve, calculate_3d_curve_abscissas,remove_high_freq_components, min_max_normalize, autocovariance_function\n",
    "from AngioMorphPCA.io import Get_simple_vtk, makeVtkFile\n",
    "from scipy.integrate import simps\n",
    "from AngioMorphPCA.GenerateDiffHemeo import generate_diff_homeomorphism\n",
    "from AngioMorphPCA.srvf_rep import compute_srvf_func, reconstruct_curve_from_srvf\n",
    "from AngioMorphPCA.L2distance import calculate_l2_distance\n",
    "from AngioMorphPCA.compute_geometry import compute_curvature_and_torsion,build_curve_from_curvatures\n",
    "from tqdm import tqdm\n",
    "import matplotlib.pyplot as plts\n",
    "import warnings\n",
    "import matplotlib.pyplot as plt\n",
    "from geomstats.learning.frechet_mean import FrechetMean\n",
    "import geomstats.backend as gs\n",
    "from geomstats.geometry.discrete_curves import (\n",
    "    DiscreteCurvesStartingAtOrigin,\n",
    "    SRVMetric,\n",
    "    insert_zeros,\n",
    ")\n",
    "from geomstats.learning.pca import TangentPCA\n",
    "import seaborn as sns\n",
    "import matplotlib.cm as cm\n",
    "import pandas as pd\n"
   ]
  }
 ],
 "metadata": {
  "language_info": {
   "name": "python"
  }
 },
 "nbformat": 4,
 "nbformat_minor": 2
}
